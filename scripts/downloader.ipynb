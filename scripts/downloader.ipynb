{
 "cells": [
  {
   "cell_type": "code",
   "execution_count": 16,
   "metadata": {},
   "outputs": [],
   "source": [
    "from urllib.request import urlretrieve"
   ]
  },
  {
   "cell_type": "code",
   "execution_count": 17,
   "metadata": {},
   "outputs": [],
   "source": [
    "url = \"https://www.lightningdesignsystem.com/assets/downloads/salesforce-lightning-design-system-icons.zip\"\n",
    "filename = \"salesforce-lightning-design-system-icons\""
   ]
  },
  {
   "cell_type": "code",
   "execution_count": 18,
   "metadata": {},
   "outputs": [
    {
     "data": {
      "text/plain": [
       "('salesforce-lightning-design-system-icons.zip',\n",
       " <http.client.HTTPMessage at 0x2289d847f80>)"
      ]
     },
     "execution_count": 18,
     "metadata": {},
     "output_type": "execute_result"
    }
   ],
   "source": [
    "urlretrieve(url, f\"{filename}.zip\")"
   ]
  },
  {
   "cell_type": "code",
   "execution_count": 19,
   "metadata": {},
   "outputs": [],
   "source": [
    "from zipfile import ZipFile"
   ]
  },
  {
   "cell_type": "code",
   "execution_count": 20,
   "metadata": {},
   "outputs": [],
   "source": [
    "zout = ZipFile(f\"new-{filename}.zip\", 'w')\n",
    "with ZipFile(f\"{filename}.zip\", 'r') as zin:\n",
    "    for file in zin.infolist():\n",
    "        if file.filename.endswith('.svg'):\n",
    "            zout.writestr(file.filename, zin.read(file.filename))\n",
    "zout.extractall(f\"../static/{filename}\")\n",
    "zin.close()\n",
    "zout.close()"
   ]
  },
  {
   "cell_type": "code",
   "execution_count": 21,
   "metadata": {},
   "outputs": [],
   "source": [
    "from os import remove\n",
    "remove(f\"{filename}.zip\")\n",
    "remove(f\"new-{filename}.zip\")"
   ]
  }
 ],
 "metadata": {
  "kernelspec": {
   "display_name": ".venv",
   "language": "python",
   "name": "python3"
  },
  "language_info": {
   "codemirror_mode": {
    "name": "ipython",
    "version": 3
   },
   "file_extension": ".py",
   "mimetype": "text/x-python",
   "name": "python",
   "nbconvert_exporter": "python",
   "pygments_lexer": "ipython3",
   "version": "3.12.4"
  }
 },
 "nbformat": 4,
 "nbformat_minor": 2
}
