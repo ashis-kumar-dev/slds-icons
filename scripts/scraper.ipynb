{
 "cells": [
  {
   "cell_type": "code",
   "execution_count": 1,
   "metadata": {},
   "outputs": [],
   "source": [
    "from requests import request\n",
    "from bs4 import BeautifulSoup, ResultSet"
   ]
  },
  {
   "cell_type": "code",
   "execution_count": 2,
   "metadata": {},
   "outputs": [],
   "source": [
    "def scrape(url: str):\n",
    "    response = request(method='GET', url=url)\n",
    "    html = BeautifulSoup(response.content, 'html.parser')\n",
    "    return html"
   ]
  },
  {
   "cell_type": "code",
   "execution_count": 3,
   "metadata": {},
   "outputs": [],
   "source": [
    "def get_icons_sections(html: BeautifulSoup):\n",
    "    sections: ResultSet[BeautifulSoup] = html.find_all(attrs={\"data-slds-icons-section\": \"true\"})\n",
    "    return sections"
   ]
  },
  {
   "cell_type": "code",
   "execution_count": 4,
   "metadata": {},
   "outputs": [],
   "source": [
    "def get_section_title(section: BeautifulSoup):\n",
    "    return section.find(\"h2\").find(\"span\").text"
   ]
  },
  {
   "cell_type": "code",
   "execution_count": 5,
   "metadata": {},
   "outputs": [],
   "source": [
    "def get_all_icons_by_section(section: BeautifulSoup):\n",
    "    figures: ResultSet[BeautifulSoup] = section.find_all('figure')\n",
    "    captions = []\n",
    "    for figure in figures:\n",
    "        caption = figure.find(\"figcaption\")\n",
    "        captions.append(caption.text)\n",
    "    return captions"
   ]
  },
  {
   "cell_type": "code",
   "execution_count": 6,
   "metadata": {},
   "outputs": [],
   "source": [
    "html = scrape(\"https://lightningdesignsystem.com/icons/\")"
   ]
  },
  {
   "cell_type": "code",
   "execution_count": 7,
   "metadata": {},
   "outputs": [],
   "source": [
    "from json import dump\n",
    "icons: dict[str, list[str]] = {}"
   ]
  },
  {
   "cell_type": "code",
   "execution_count": 8,
   "metadata": {},
   "outputs": [],
   "source": [
    "for section in get_icons_sections(html):\n",
    "    category = get_section_title(section).split(sep= \" \")[0].lower()\n",
    "    icons[category] = get_all_icons_by_section(section)"
   ]
  },
  {
   "cell_type": "code",
   "execution_count": 9,
   "metadata": {},
   "outputs": [],
   "source": [
    "with open(\"./slds-icons.json\", \"w\") as json_file:\n",
    "    dump(icons, json_file)\n",
    "    json_file.close()"
   ]
  }
 ],
 "metadata": {
  "kernelspec": {
   "display_name": ".venv",
   "language": "python",
   "name": "python3"
  },
  "language_info": {
   "codemirror_mode": {
    "name": "ipython",
    "version": 3
   },
   "file_extension": ".py",
   "mimetype": "text/x-python",
   "name": "python",
   "nbconvert_exporter": "python",
   "pygments_lexer": "ipython3",
   "version": "3.12.4"
  }
 },
 "nbformat": 4,
 "nbformat_minor": 2
}
